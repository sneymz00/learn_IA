{
  "nbformat": 4,
  "nbformat_minor": 0,
  "metadata": {
    "colab": {
      "provenance": [],
      "include_colab_link": true
    },
    "kernelspec": {
      "name": "python3",
      "display_name": "Python 3"
    },
    "language_info": {
      "name": "python"
    }
  },
  "cells": [
    {
      "cell_type": "markdown",
      "metadata": {
        "id": "view-in-github",
        "colab_type": "text"
      },
      "source": [
        "<a href=\"https://colab.research.google.com/github/sneymz00/learn_IA/blob/main/DataScience_learning.ipynb\" target=\"_parent\"><img src=\"https://colab.research.google.com/assets/colab-badge.svg\" alt=\"Open In Colab\"/></a>"
      ]
    },
    {
      "cell_type": "markdown",
      "metadata": {
        "id": "header-title"
      },
      "source": [
        "# 📊 Recordatorios Data Science - Python & Pandas\n",
        "\n",
        "**Apuntes rápidos para limpieza y análisis de datos**\n",
        "\n",
        "---"
      ]
    },
    {
      "cell_type": "markdown",
      "metadata": {
        "id": "imports-section"
      },
      "source": [
        "## 🛠️ Imports Básicos"
      ]
    },
    {
      "cell_type": "code",
      "execution_count": null,
      "metadata": {
        "id": "imports-code"
      },
      "outputs": [],
      "source": [
        "import pandas as pd\n",
        "import numpy as np\n",
        "\n",
        "# Para mounting Google Drive (si necesario)\n",
        "# from google.colab import drive\n",
        "# drive.mount('/content/drive')"
      ]
    },
    {
      "cell_type": "markdown",
      "metadata": {
        "id": "exploration-section"
      },
      "source": [
        "## 🔍 1. Exploración Inicial de Datos\n",
        "\n",
        "**Comandos esenciales para conocer tu dataset:**\n",
        "\n",
        "```python\n",
        "# Cargar datos\n",
        "df = pd.read_csv('archivo.csv')  # o pd.read_csv('archivo.csv', sep=';')\n",
        "\n",
        "# Exploración básica\n",
        "df.head()           # Primeras 5 filas\n",
        "df.tail()           # Últimas 5 filas\n",
        "df.shape            # (filas, columnas)\n",
        "df.columns          # Nombres de columnas\n",
        "df.dtypes           # Tipos de datos\n",
        "df.info()           # Resumen completo\n",
        "df.describe()       # Estadísticas descriptivas\n",
        "```"
      ]
    },
    {
      "cell_type": "markdown",
      "metadata": {
        "id": "cleaning-section"
      },
      "source": [
        "## 🧹 2. Limpieza de Datos\n",
        "\n",
        "### **Valores Nulos**\n",
        "```python\n",
        "# Detectar nulos\n",
        "df.isnull().sum()                    # Conteo por columna\n",
        "df.isnull().sum() / len(df) * 100   # Porcentaje\n",
        "\n",
        "# Tratar nulos\n",
        "df.dropna()                         # Eliminar filas con nulos\n",
        "df.fillna(0)                        # Rellenar con 0\n",
        "df.fillna(df.mean())                # Rellenar con media\n",
        "df.fillna(df.mode()[0])             # Rellenar con moda\n",
        "```\n",
        "\n",
        "### **Duplicados**\n",
        "```python\n",
        "# Detectar y eliminar duplicados\n",
        "df.duplicated().sum()               # Contar duplicados\n",
        "df.drop_duplicates()                # Eliminar duplicados\n",
        "```\n",
        "\n",
        "### **Normalización de Texto**\n",
        "```python\n",
        "# Limpiar texto\n",
        "df['columna'] = df['columna'].str.strip()      # Quitar espacios\n",
        "df['columna'] = df['columna'].str.lower()      # Minúsculas\n",
        "df['columna'] = df['columna'].str.title()      # Formato Título\n",
        "df['columna'] = df['columna'].str.upper()      # Mayúsculas\n",
        "```"
      ]
    },
    {
      "cell_type": "markdown",
      "metadata": {
        "id": "outliers-section"
      },
      "source": [
        "## 🎯 3. Detección de Outliers - Método IQR\n",
        "\n",
        "**Fórmula IQR (Rango Intercuartílico):**\n",
        "- Q1 = Percentil 25\n",
        "- Q3 = Percentil 75  \n",
        "- IQR = Q3 - Q1\n",
        "- Límite inferior = Q1 - 1.5 × IQR\n",
        "- Límite superior = Q3 + 1.5 × IQR\n",
        "\n",
        "**Código:**"
      ]
    },
    {
      "cell_type": "code",
      "execution_count": null,
      "metadata": {
        "id": "outliers-code"
      },
      "outputs": [],
      "source": [
        "def detectar_outliers_iqr(df, columna):\n",
        "    \"\"\"\n",
        "    Detecta outliers usando método IQR\n",
        "    \"\"\"\n",
        "    # Calcular cuartiles\n",
        "    Q1 = df[columna].quantile(0.25)\n",
        "    Q3 = df[columna].quantile(0.75)\n",
        "    IQR = Q3 - Q1\n",
        "\n",
        "    # Definir límites\n",
        "    limite_inferior = Q1 - 1.5 * IQR\n",
        "    limite_superior = Q3 + 1.5 * IQR\n",
        "\n",
        "    # Identificar outliers\n",
        "    outliers = df[(df[columna] < limite_inferior) |\n",
        "                  (df[columna] > limite_superior)]\n",
        "\n",
        "    print(f\"Q1: {Q1:.2f}\")\n",
        "    print(f\"Q3: {Q3:.2f}\")\n",
        "    print(f\"IQR: {IQR:.2f}\")\n",
        "    print(f\"Límites: [{limite_inferior:.2f}, {limite_superior:.2f}]\")\n",
        "    print(f\"Outliers encontrados: {len(outliers)}\")\n",
        "\n",
        "    return outliers, limite_inferior, limite_superior"
      ]
    },
    {
      "cell_type": "markdown",
      "metadata": {
        "id": "filtering-section"
      },
      "source": [
        "## 🔎 4. Filtrado de Datos (WHERE)\n",
        "\n",
        "**Filtros básicos:**\n",
        "```python\n",
        "# Filtros simples\n",
        "df[df['columna'] > 50]              # Mayor que\n",
        "df[df['columna'] == 'valor']        # Igual a\n",
        "df[df['columna'].isin(['A', 'B'])]  # Está en lista\n",
        "\n",
        "# Filtros múltiples\n",
        "df[(df['col1'] > 10) & (df['col2'] == 'texto')]    # AND\n",
        "df[(df['col1'] > 10) | (df['col2'] == 'texto')]    # OR\n",
        "df[~(df['columna'] > 10)]                          # NOT\n",
        "\n",
        "# Método query (alternativa)\n",
        "df.query('columna > 50')\n",
        "df.query('col1 > 10 and col2 == \"texto\"')\n",
        "```"
      ]
    },
    {
      "cell_type": "markdown",
      "metadata": {
        "id": "groupby-section"
      },
      "source": [
        "## 📊 5. Agrupación y Agregación (GroupBy)\n",
        "\n",
        "```python\n",
        "# Agrupación básica\n",
        "df.groupby('columna').mean()                    # Media por grupo\n",
        "df.groupby('columna').sum()                     # Suma por grupo\n",
        "df.groupby('columna').count()                   # Conteo por grupo\n",
        "\n",
        "# Múltiples agregaciones\n",
        "df.groupby('columna').agg({\n",
        "    'col1': 'mean',\n",
        "    'col2': 'sum',\n",
        "    'col3': 'count'\n",
        "})\n",
        "\n",
        "# Múltiples columnas de agrupación\n",
        "df.groupby(['col1', 'col2']).mean()\n",
        "\n",
        "# Ordenar resultados\n",
        "df.groupby('columna').sum().sort_values('col1', ascending=False)\n",
        "```"
      ]
    },
    {
      "cell_type": "markdown",
      "metadata": {
        "id": "datatypes-section"
      },
      "source": [
        "## 🔧 6. Conversión de Tipos de Datos\n",
        "\n",
        "```python\n",
        "# Conversiones básicas\n",
        "df['columna'] = df['columna'].astype('int')        # A entero\n",
        "df['columna'] = df['columna'].astype('float')      # A decimal\n",
        "df['columna'] = df['columna'].astype('str')        # A texto\n",
        "df['columna'] = df['columna'].astype('category')   # A categoría\n",
        "\n",
        "# Conversiones especiales\n",
        "df['fecha'] = pd.to_datetime(df['fecha'])          # A fecha\n",
        "df['numero'] = pd.to_numeric(df['numero'], errors='coerce')  # A numérico\n",
        "```"
      ]
    },
    {
      "cell_type": "markdown",
      "metadata": {
        "id": "tips-section"
      },
      "source": [
        "## 💡 7. Tips y Trucos Rápidos\n",
        "\n",
        "### **Crear nuevas columnas**\n",
        "```python\n",
        "# Columna condicional\n",
        "df['nueva_col'] = np.where(df['col'] > 50, 'Alto', 'Bajo')\n",
        "\n",
        "# Columna desde otra\n",
        "df['nueva_col'] = df['col1'] * df['col2']\n",
        "\n",
        "# Columna binaria (0/1)\n",
        "df['tiene_valor'] = (df['columna'].notnull()).astype(int)\n",
        "```\n",
        "\n",
        "### **Conteos y frecuencias**\n",
        "```python\n",
        "df['columna'].value_counts()           # Conteo de valores únicos\n",
        "df['columna'].value_counts(normalize=True)  # Porcentajes\n",
        "df['columna'].nunique()                # Número de valores únicos\n",
        "```\n",
        "\n",
        "### **Ordenamiento**\n",
        "```python\n",
        "df.sort_values('columna', ascending=False)      # Descendente\n",
        "df.sort_values(['col1', 'col2'])                # Múltiples columnas\n",
        "```"
      ]
    },
    {
      "cell_type": "markdown",
      "metadata": {
        "id": "workflow-section"
      },
      "source": [
        "## 🔄 8. Flujo de Trabajo Recomendado\n",
        "\n",
        "### **Secuencia típica de limpieza:**\n",
        "\n",
        "1. **Cargar** → `pd.read_csv()`\n",
        "2. **Explorar** → `df.info()`, `df.describe()`\n",
        "3. **Detectar problemas** → nulos, duplicados, outliers\n",
        "4. **Limpiar** → eliminar/imputar según criterio\n",
        "5. **Normalizar** → tipos de datos, texto\n",
        "6. **Verificar** → confirmar limpieza exitosa\n",
        "7. **Analizar** → groupby, filtros, agregaciones\n",
        "8. **Guardar** → `df.to_csv('limpio.csv', index=False)`"
      ]
    },
    {
      "cell_type": "markdown",
      "metadata": {
        "id": "checklist-section"
      },
      "source": [
        "## 9. Checklist Final\n",
        "\n",
        "**Antes de analizar, verificar:**\n",
        "\n",
        "- [ ] **Sin valores nulos** → `df.isnull().sum().sum() == 0`\n",
        "- [ ] **Sin duplicados** → `df.duplicated().sum() == 0`\n",
        "- [ ] **Tipos correctos** → `df.dtypes`\n",
        "- [ ] **Outliers tratados** → método IQR aplicado\n",
        "- [ ] **Texto normalizado** → mayúsculas/minúsculas consistentes\n",
        "- [ ] **Fechas convertidas** → `pd.to_datetime()` si aplica\n",
        "\n",
        "**Comando de verificación rápida:**"
      ]
    },
    {
      "cell_type": "code",
      "execution_count": null,
      "metadata": {
        "id": "verification-code"
      },
      "outputs": [],
      "source": [
        "def verificar_limpieza(df):\n",
        "    \"\"\"\n",
        "    Verifica que el dataset esté limpio\n",
        "    \"\"\"\n",
        "    print(\"🔍 VERIFICACIÓN DE LIMPIEZA\")\n",
        "    print(\"=\" * 30)\n",
        "    print(f\"📋 Dimensiones: {df.shape}\")\n",
        "    print(f\"❌ Valores nulos: {df.isnull().sum().sum()}\")\n",
        "    print(f\"🔄 Duplicados: {df.duplicated().sum()}\")\n",
        "    print(f\"📊 Tipos de datos:\")\n",
        "    print(df.dtypes.value_counts())\n",
        "\n",
        "    if df.isnull().sum().sum() == 0 and df.duplicated().sum() == 0:\n",
        "        print(\"\\n✅ Dataset limpio - Listo para análisis\")\n",
        "    else:\n",
        "        print(\"\\n⚠️ Dataset necesita más limpieza\")\n",
        "\n",
        "# Usar así: verificar_limpieza(df)"
      ]
    },
    {
      "cell_type": "markdown",
      "metadata": {
        "id": "footer-section"
      },
      "source": [
        "---\n",
        "\n",
        "## 🎓 Recordatorio Final\n",
        "\n",
        "> **\"Los datos limpios son la base de cualquier análisis exitoso\"**\n",
        "\n",
        "**Regla de oro:** Siempre explorar antes de limpiar, y verificar después de limpiar.\n",
        "\n",
        "**Próximos pasos:** Una vez limpios los datos → visualización, modelado, insights.\n",
        "\n",
        "---\n",
        "*Apuntes creados para Data Science*"
      ]
    }
  ]
}