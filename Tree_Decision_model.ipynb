{
  "cells": [
    {
      "cell_type": "markdown",
      "metadata": {
        "id": "view-in-github",
        "colab_type": "text"
      },
      "source": [
        "<a href=\"https://colab.research.google.com/github/sneymz00/learn_IA/blob/main/Tree_Decision_model.ipynb\" target=\"_parent\"><img src=\"https://colab.research.google.com/assets/colab-badge.svg\" alt=\"Open In Colab\"/></a>"
      ]
    },
    {
      "cell_type": "markdown",
      "metadata": {
        "id": "rcCb9UP9RArM"
      },
      "source": [
        "# 🌳 ÁRBOLES DE DECISIÓN\n",
        "**¡Tu primera aventura en Machine Learning!**\n",
        "\n",
        "## 👋 ¡Bienvenido!\n",
        "\n",
        "Hoy vamos a aprender cómo enseñarle a una computadora a tomar decisiones, ¡igual que lo hacemos nosotros!\n",
        "\n",
        "No necesitas saber matemáticas complicadas ni programación avanzada. Solo curiosidad y ganas de aprender.\n",
        "\n",
        "### 🎯 Al final de hoy podrás:\n",
        "- Entender qué es Machine Learning con ejemplos cotidianos\n",
        "- Crear tu primer modelo inteligente\n",
        "- Resolver un problema real paso a paso\n"
      ]
    },
    {
      "cell_type": "markdown",
      "metadata": {
        "id": "32gQqTacRArQ"
      },
      "source": [
        "## 🔧 Paso 1: Preparar Nuestro Espacio de Trabajo\n",
        "\n",
        "Primero vamos a verificar que todo funciona correctamente. ¡Es como preparar la cocina antes de cocinar!"
      ]
    },
    {
      "cell_type": "code",
      "execution_count": null,
      "metadata": {
        "colab": {
          "base_uri": "https://localhost:8080/"
        },
        "id": "GIb85C5lRArR",
        "outputId": "8203ddad-9c36-4015-ae78-ae33538f4997"
      },
      "outputs": [
        {
          "output_type": "stream",
          "name": "stdout",
          "text": [
            "¡Hola Machine Learning!\n",
            "Estoy listo para aprender 🚀\n",
            "\n",
            "✅ ¡Perfecto! Todas las herramientas están listas\n",
            "📚 Ahora podemos empezar a crear modelos inteligentes\n"
          ]
        }
      ],
      "source": [
        "# ¡Nuestro primer código!\n",
        "print(\"¡Hola Machine Learning!\")\n",
        "print(\"Estoy listo para aprender 🚀\")\n",
        "\n",
        "# Verificar que tenemos las herramientas necesarias\n",
        "try:\n",
        "    import pandas as pd\n",
        "    import matplotlib.pyplot as plt\n",
        "    from sklearn.tree import DecisionTreeClassifier\n",
        "    from sklearn.model_selection import train_test_split\n",
        "    from sklearn.metrics import accuracy_score\n",
        "    from sklearn.tree import plot_tree\n",
        "\n",
        "    print(\"\\n✅ ¡Perfecto! Todas las herramientas están listas\")\n",
        "    print(\"📚 Ahora podemos empezar a crear modelos inteligentes\")\n",
        "\n",
        "except ImportError as e:\n",
        "    print(f\"❌ Ups, necesitamos instalar algo: {e}\")\n",
        "    print(\"💡 Pide ayuda a tu instructor\")"
      ]
    },
    {
      "cell_type": "markdown",
      "metadata": {
        "id": "28gL6C63RArT"
      },
      "source": [
        "## 🧠 ¿Qué es Machine Learning?\n",
        "\n",
        "### Piénsalo así:\n",
        "\n",
        "**Machine Learning = Enseñar a la computadora con ejemplos**\n",
        "\n",
        "### 👶 Como aprende un niño:\n",
        "1. Ve muchas fotos de gatos y perros\n",
        "2. Nota diferencias: orejas, cola, tamaño\n",
        "3. Cuando ve un animal nuevo → ¡puede decir si es gato o perro!\n",
        "\n",
        "### 🤖 Como aprende una computadora:\n",
        "1. Le damos muchos datos de ejemplo\n",
        "2. Encuentra patrones automáticamente\n",
        "3. Puede clasificar datos nuevos\n",
        "\n",
        "### 🌟 Ejemplos que usas todos los días:\n",
        "- 🎬 **Netflix**: \"¿Qué película te gustará?\"\n",
        "- 📧 **Gmail**: \"¿Este email es spam?\"\n",
        "- 🛒 **Amazon**: \"¿Qué producto recomendarte?\"\n",
        "- 🚗 **GPS**: \"¿Cuál es la mejor ruta?\""
      ]
    },
    {
      "cell_type": "markdown",
      "metadata": {
        "id": "MLVPDLQ9RArT"
      },
      "source": [
        "## 🌳 ¿Por qué Árboles de Decisión?\n",
        "\n",
        "### ¡Porque piensas como un árbol de decisión todos los días!\n",
        "\n",
        "**Ejemplo: Decidir si salir a correr**\n",
        "\n",
        "```\n",
        "            ¿Está lloviendo?\n",
        "           /              \\\n",
        "       SÍ /                \\ NO\n",
        "         /                  \\\n",
        "[Gym en casa]          ¿Hace calor?\n",
        "                       /           \\\n",
        "                   SÍ /             \\ NO\n",
        "                     /               \\\n",
        "            [Shorts]              [Con chaqueta]\n",
        "```\n",
        "\n",
        "### 🏆 ¿Por qué son idóneos?\n",
        "- ✅ **Fáciles de entender**: Como un diagrama de flujo\n",
        "- ✅ **Explican sus decisiones**: Puedes seguir el camino\n",
        "- ✅ **No necesitan matemáticas**: Solo preguntas sí/no\n",
        "- ✅ **Funcionan con cualquier dato**: Números, texto, categorías"
      ]
    },
    {
      "cell_type": "markdown",
      "metadata": {
        "id": "jAqq-brxRArT"
      },
      "source": [
        "## 🍕 Ejercicio: Tu Primer Árbol Mental (Derterminar 3 niveles de preguntas)\n",
        "\n",
        "**Problema**: Decidir dónde almorzar\n",
        "\n",
        "### 🤔 Piensa:\n",
        "1. ¿Qué preguntas te haces antes de decidir?\n",
        "2. ¿En qué orden las haces?\n",
        "3. ¿Cómo cada respuesta afecta tu decisión?\n",
        "\n",
        "### ✏️ Escribe en este espacio tu árbol:\n",
        "```\n",
        "¿Primera pregunta?\n",
        "/               \\\n",
        "                  \n",
        "```\n",
        "\n",
        "*Tómate 10 minutos para pensar y dibujar*"
      ]
    },
    {
      "cell_type": "markdown",
      "metadata": {
        "id": "QAl_3KTkRArU"
      },
      "source": [
        "## 📊 Creando Nuestros Primeros Datos\n",
        "\n",
        "Vamos a crear un dataset sobre **\"¿Ir al cine?\"** paso a paso.\n",
        "\n",
        "### 🎬 Factores que consideramos:\n",
        "- **Clima**: ¿Está soleado o lluvioso?\n",
        "- **Dinero**: ¿Tengo mucho o poco?\n",
        "- **Acompañante**: ¿Voy solo o acompañado?\n",
        "- **Decisión**: ¿Al final fui o no?"
      ]
    },
    {
      "cell_type": "code",
      "execution_count": null,
      "metadata": {
        "colab": {
          "base_uri": "https://localhost:8080/"
        },
        "id": "ZTJGnImxRArU",
        "outputId": "ffe1638a-d5f3-4fd1-eb36-c089c20deff4"
      },
      "outputs": [
        {
          "output_type": "stream",
          "name": "stdout",
          "text": [
            "🎬 Nuestro dataset de decisiones de cine:\n",
            "      Clima Dinero Acompañante Fue_al_Cine\n",
            "0   Soleado   Poco          No          No\n",
            "1  Lluvioso  Mucho          No          No\n",
            "2   Soleado  Mucho          Sí          Sí\n",
            "3  Lluvioso   Poco          Sí          Sí\n",
            "4   Soleado  Mucho          No          No\n",
            "5  Lluvioso  Mucho          Sí          Sí\n",
            "6   Soleado   Poco          No          No\n",
            "7  Lluvioso   Poco          Sí          Sí\n",
            "\n",
            "📊 Tenemos 8 situaciones diferentes\n",
            "✅ Veces que SÍ fue: 4\n",
            "❌ Veces que NO fue: 4\n"
          ]
        }
      ],
      "source": [
        "# Vamos a crear datos sobre decisiones de ir al cine\n",
        "import pandas as pd\n",
        "\n",
        "# Nuestros datos de ejemplo (situaciones reales)\n",
        "datos_cine = {\n",
        "    'Clima': ['Soleado', 'Lluvioso', 'Soleado', 'Lluvioso',\n",
        "              'Soleado', 'Lluvioso', 'Soleado', 'Lluvioso'],\n",
        "\n",
        "    'Dinero': ['Poco', 'Mucho', 'Mucho', 'Poco',\n",
        "               'Mucho', 'Mucho', 'Poco', 'Poco'],\n",
        "\n",
        "    'Acompañante': ['No', 'No', 'Sí', 'Sí',\n",
        "                    'No', 'Sí', 'No', 'Sí'],\n",
        "\n",
        "    'Fue_al_Cine': ['No', 'No', 'Sí', 'Sí',\n",
        "                    'No', 'Sí', 'No', 'Sí']\n",
        "}\n",
        "\n",
        "# Convertir a una tabla que Python entienda\n",
        "df_cine = pd.DataFrame(datos_cine)\n",
        "\n",
        "print(\"🎬 Nuestro dataset de decisiones de cine:\")\n",
        "print(df_cine)\n",
        "\n",
        "print(f\"\\n📊 Tenemos {len(df_cine)} situaciones diferentes\")\n",
        "print(f\"✅ Veces que SÍ fue: {sum(df_cine['Fue_al_Cine'] == 'Sí')}\")\n",
        "print(f\"❌ Veces que NO fue: {sum(df_cine['Fue_al_Cine'] == 'No')}\")"
      ]
    },
    {
      "cell_type": "markdown",
      "metadata": {
        "id": "HFP8I78vRArV"
      },
      "source": [
        "## 🔍 Explorando Nuestros Datos\n",
        "\n",
        "Antes de crear nuestro modelo, vamos a entender mejor nuestros datos. ¡Es como conocer los ingredientes antes de cocinar!"
      ]
    },
    {
      "cell_type": "code",
      "execution_count": null,
      "metadata": {
        "colab": {
          "base_uri": "https://localhost:8080/"
        },
        "id": "3zz2xzanRArV",
        "outputId": "5e7849c1-4e0a-412b-bf5f-d40ba4eab3c7"
      },
      "outputs": [
        {
          "output_type": "stream",
          "name": "stdout",
          "text": [
            "🔍 ANALIZANDO PATRONES:\n",
            "==============================\n",
            "☀️ CLIMA vs DECISIÓN:\n",
            "Fue_al_Cine  No  Sí\n",
            "Clima              \n",
            "Lluvioso      1   3\n",
            "Soleado       3   1\n",
            "\n",
            "💰 DINERO vs DECISIÓN:\n",
            "Fue_al_Cine  No  Sí\n",
            "Dinero             \n",
            "Mucho         2   2\n",
            "Poco          2   2\n",
            "\n",
            "👥 ACOMPAÑANTE vs DECISIÓN:\n",
            "Fue_al_Cine  No  Sí\n",
            "Acompañante        \n",
            "No            4   0\n",
            "Sí            0   4\n",
            "\n",
            "🤔 ¿Qué patrón notas? ¿Qué factor parece más importante?\n"
          ]
        }
      ],
      "source": [
        "# ¿Qué patrones podemos ver?\n",
        "print(\"🔍 ANALIZANDO PATRONES:\")\n",
        "print(\"=\" * 30)\n",
        "\n",
        "# Patrón 1: ¿El clima afecta la decisión?\n",
        "print(\"☀️ CLIMA vs DECISIÓN:\")\n",
        "clima_decision = pd.crosstab(df_cine['Clima'], df_cine['Fue_al_Cine'])\n",
        "print(clima_decision)\n",
        "\n",
        "print(\"\\n💰 DINERO vs DECISIÓN:\")\n",
        "dinero_decision = pd.crosstab(df_cine['Dinero'], df_cine['Fue_al_Cine'])\n",
        "print(dinero_decision)\n",
        "\n",
        "print(\"\\n👥 ACOMPAÑANTE vs DECISIÓN:\")\n",
        "acompañante_decision = pd.crosstab(df_cine['Acompañante'], df_cine['Fue_al_Cine'])\n",
        "print(acompañante_decision)\n",
        "\n",
        "print(\"\\n🤔 ¿Qué patrón notas? ¿Qué factor parece más importante?\")"
      ]
    },
    {
      "cell_type": "markdown",
      "metadata": {
        "id": "fqLinER7RArW"
      },
      "source": [
        "## 🔤 Preparando Datos para la Computadora\n",
        "\n",
        "### 🤖 Problema:\n",
        "Las computadoras no entienden palabras como \"Soleado\" o \"Mucho\". Solo entienden números.\n",
        "\n",
        "### 💡 Solución:\n",
        "Vamos a convertir palabras a números, ¡como crear un diccionario de traducción!"
      ]
    },
    {
      "cell_type": "code",
      "execution_count": null,
      "metadata": {
        "colab": {
          "base_uri": "https://localhost:8080/",
          "height": 376
        },
        "id": "WP5_Rml0RArW",
        "outputId": "84b850a2-4387-460b-867c-ac18979e2f6e"
      },
      "outputs": [
        {
          "output_type": "stream",
          "name": "stdout",
          "text": [
            "🔤 ANTES - Datos con palabras:\n",
            "      Clima Dinero Acompañante Fue_al_Cine\n",
            "0   Soleado   Poco          No          No\n",
            "1  Lluvioso  Mucho          No          No\n",
            "2   Soleado  Mucho          Sí          Sí\n",
            "3  Lluvioso   Poco          Sí          Sí\n",
            "4   Soleado  Mucho          No          No\n",
            "\n",
            "🔄 Convirtiendo a números...\n"
          ]
        },
        {
          "output_type": "error",
          "ename": "AttributeError",
          "evalue": "'LabelEncoder' object has no attribute 'classes_'",
          "traceback": [
            "\u001b[0;31m---------------------------------------------------------------------------\u001b[0m",
            "\u001b[0;31mAttributeError\u001b[0m                            Traceback (most recent call last)",
            "\u001b[0;32m/tmp/ipython-input-3416596270.py\u001b[0m in \u001b[0;36m<cell line: 0>\u001b[0;34m()\u001b[0m\n\u001b[1;32m     14\u001b[0m \u001b[0mle_clima\u001b[0m \u001b[0;34m=\u001b[0m \u001b[0mLabelEncoder\u001b[0m\u001b[0;34m(\u001b[0m\u001b[0;34m)\u001b[0m\u001b[0;34m\u001b[0m\u001b[0;34m\u001b[0m\u001b[0m\n\u001b[1;32m     15\u001b[0m \u001b[0mdf_numerico\u001b[0m\u001b[0;34m[\u001b[0m\u001b[0;34m'Clima_num'\u001b[0m\u001b[0;34m]\u001b[0m \u001b[0;34m=\u001b[0m \u001b[0mLabelEncoder\u001b[0m\u001b[0;34m(\u001b[0m\u001b[0;34m)\u001b[0m\u001b[0;34m.\u001b[0m\u001b[0mfit_transform\u001b[0m\u001b[0;34m(\u001b[0m\u001b[0mdf_cine\u001b[0m\u001b[0;34m[\u001b[0m\u001b[0;34m'Clima'\u001b[0m\u001b[0;34m]\u001b[0m\u001b[0;34m)\u001b[0m\u001b[0;34m\u001b[0m\u001b[0;34m\u001b[0m\u001b[0m\n\u001b[0;32m---> 16\u001b[0;31m \u001b[0mprint\u001b[0m\u001b[0;34m(\u001b[0m\u001b[0;34mf\"Clima: {list(le_clima.classes_)} → {list(range(len(le_clima.classes_)))}\"\u001b[0m\u001b[0;34m)\u001b[0m\u001b[0;34m\u001b[0m\u001b[0;34m\u001b[0m\u001b[0m\n\u001b[0m\u001b[1;32m     17\u001b[0m \u001b[0;34m\u001b[0m\u001b[0m\n\u001b[1;32m     18\u001b[0m \u001b[0;31m# Para DINERO: Mucho=0, Poco=1\u001b[0m\u001b[0;34m\u001b[0m\u001b[0;34m\u001b[0m\u001b[0m\n",
            "\u001b[0;31mAttributeError\u001b[0m: 'LabelEncoder' object has no attribute 'classes_'"
          ]
        }
      ],
      "source": [
        "# Importar el \"traductor\" de palabras a números\n",
        "from sklearn.preprocessing import LabelEncoder\n",
        "\n",
        "print(\"🔤 ANTES - Datos con palabras:\")\n",
        "print(df_cine.head())\n",
        "\n",
        "# Crear copias para trabajar\n",
        "df_numerico = df_cine.copy()\n",
        "\n",
        "# Convertir cada columna de palabras a números\n",
        "print(\"\\n🔄 Convirtiendo a números...\")\n",
        "\n",
        "# Para CLIMA: Lluvioso=0, Soleado=1\n",
        "le_clima = LabelEncoder()\n",
        "df_numerico['Clima_num'] = LabelEncoder().fit_transform(df_cine['Clima'])\n",
        "print(f\"Clima: {list(le_clima.classes_)} → {list(range(len(le_clima.classes_)))}\")\n",
        "\n",
        "# Para DINERO: Mucho=0, Poco=1\n",
        "le_dinero = LabelEncoder()\n",
        "df_numerico['Dinero_num'] = le_dinero.fit_transform(df_cine['Dinero'])\n",
        "print(f\"Dinero: {list(le_dinero.classes_)} → {list(range(len(le_dinero.classes_)))}\")\n",
        "\n",
        "# Para ACOMPAÑANTE: No=0, Sí=1\n",
        "le_acompañante = LabelEncoder()\n",
        "df_numerico['Acompañante_num'] = le_acompañante.fit_transform(df_cine['Acompañante'])\n",
        "print(f\"Acompañante: {list(le_acompañante.classes_)} → {list(range(len(le_acompañante.classes_)))}\")\n",
        "\n",
        "# Para DECISIÓN: No=0, Sí=1\n",
        "le_decision = LabelEncoder()\n",
        "df_numerico['Decision_num'] = le_decision.fit_transform(df_cine['Fue_al_Cine'])\n",
        "print(f\"Decisión: {list(le_decision.classes_)} → {list(range(len(le_decision.classes_)))}\")\n",
        "\n",
        "print(\"\\n🔢 DESPUÉS - Datos con números:\")\n",
        "print(df_numerico[['Clima', 'Clima_num', 'Dinero', 'Dinero_num',\n",
        "                   'Acompañante', 'Acompañante_num', 'Fue_al_Cine', 'Decision_num']].head())"
      ]
    },
    {
      "cell_type": "markdown",
      "metadata": {
        "id": "WH_r75gFRArW"
      },
      "source": [
        "## 🎯 Preparando para el Modelo\n",
        "\n",
        "### 📝 Conceptos importantes:\n",
        "- **X** = Las \"preguntas\" que hace nuestro modelo (características)\n",
        "- **y** = La \"respuesta\" que queremos predecir (objetivo)\n",
        "\n",
        "### 🎪 Analogía del Mago:\n",
        "- **X** = Las pistas que ve el mago (cartas, gestos)\n",
        "- **y** = Lo que debe adivinar (tu carta)"
      ]
    },
    {
      "cell_type": "code",
      "execution_count": null,
      "metadata": {
        "colab": {
          "base_uri": "https://localhost:8080/"
        },
        "id": "l8xyJ3tmRArX",
        "outputId": "e0a0ffed-27f0-4e99-e250-5cb6398f2a64"
      },
      "outputs": [
        {
          "output_type": "stream",
          "name": "stdout",
          "text": [
            "❓ PREGUNTAS que hará nuestro modelo (X):\n",
            "   Clima_num  Dinero_num  Acompañante_num\n",
            "0          1           1                0\n",
            "1          0           0                0\n",
            "2          1           0                1\n",
            "3          0           1                1\n",
            "4          1           0                0\n",
            "5          0           0                1\n",
            "6          1           1                0\n",
            "7          0           1                1\n",
            "\n",
            "🎯 RESPUESTA que queremos predecir (y):\n",
            "[0 0 1 1 0 1 0 1]\n",
            "\n",
            "💡 Nuestro modelo aprenderá:\n",
            "   'Cuando veo X (clima, dinero, acompañante)'\n",
            "   'Debo predecir y (ir o no ir al cine)'\n"
          ]
        }
      ],
      "source": [
        "# Separar \"preguntas\" de \"respuestas\"\n",
        "\n",
        "# X = Las características (lo que usa el modelo para decidir)\n",
        "X = df_numerico[['Clima_num', 'Dinero_num', 'Acompañante_num']]\n",
        "print(\"❓ PREGUNTAS que hará nuestro modelo (X):\")\n",
        "print(X)\n",
        "\n",
        "# y = El objetivo (lo que queremos predecir)\n",
        "y = df_numerico['Decision_num']\n",
        "print(\"\\n🎯 RESPUESTA que queremos predecir (y):\")\n",
        "print(y.values)\n",
        "\n",
        "print(\"\\n💡 Nuestro modelo aprenderá:\")\n",
        "print(\"   'Cuando veo X (clima, dinero, acompañante)'\")\n",
        "print(\"   'Debo predecir y (ir o no ir al cine)'\")"
      ]
    },
    {
      "cell_type": "markdown",
      "metadata": {
        "id": "qrbqXjyjRArX"
      },
      "source": [
        "## 🌳 ¡Creando Nuestro Primer Árbol de Decisión!\n",
        "\n",
        "### 🎉 ¡Este es el momento mágico!\n",
        "\n",
        "Vamos a crear un modelo que aprenda nuestros patrones de decisión y pueda predecir qué haríamos en situaciones nuevas."
      ]
    },
    {
      "cell_type": "code",
      "execution_count": null,
      "metadata": {
        "colab": {
          "base_uri": "https://localhost:8080/"
        },
        "id": "KFT00wwcRArX",
        "outputId": "2dcb5215-165d-4a1f-8ac2-c07a849a8c0c"
      },
      "outputs": [
        {
          "output_type": "stream",
          "name": "stdout",
          "text": [
            "🌱 Creando nuestro árbol de decisión...\n",
            "✅ Modelo creado\n",
            "🎓 Enseñando al modelo con nuestros ejemplos...\n",
            "\n",
            "🎉 ¡LISTO! Nuestro modelo ya aprendió\n",
            "🧠 Ahora sabe cómo decidir si ir al cine\n",
            "🔮 Puede predecir qué harías en situaciones nuevas\n"
          ]
        }
      ],
      "source": [
        "# ¡Crear nuestro primer modelo de Machine Learning!\n",
        "from sklearn.tree import DecisionTreeClassifier\n",
        "\n",
        "print(\"🌱 Creando nuestro árbol de decisión...\")\n",
        "\n",
        "# Crear el modelo\n",
        "modelo_cine = DecisionTreeClassifier(\n",
        "    max_depth=3,        # Máximo 3 niveles (para mantenerlo simple)\n",
        "    random_state=42     # Para que siempre dé el mismo resultado\n",
        ")\n",
        "\n",
        "print(\"✅ Modelo creado\")\n",
        "\n",
        "# \"Entrenar\" el modelo (¡que aprenda de nuestros datos!)\n",
        "print(\"🎓 Enseñando al modelo con nuestros ejemplos...\")\n",
        "modelo_cine.fit(X, y)\n",
        "\n",
        "print(\"\\n🎉 ¡LISTO! Nuestro modelo ya aprendió\")\n",
        "print(\"🧠 Ahora sabe cómo decidir si ir al cine\")\n",
        "print(\"🔮 Puede predecir qué harías en situaciones nuevas\")"
      ]
    },
    {
      "cell_type": "markdown",
      "metadata": {
        "id": "Tj8v_h24RArX"
      },
      "source": [
        "## 🔮 ¡Probando Nuestro Modelo!\n",
        "\n",
        "### ✨ ¡La parte más emocionante!\n",
        "\n",
        "Vamos a darle situaciones nuevas a nuestro modelo y ver qué decide."
      ]
    },
    {
      "cell_type": "code",
      "execution_count": null,
      "metadata": {
        "colab": {
          "base_uri": "https://localhost:8080/"
        },
        "id": "1tCfIzfTRArX",
        "outputId": "eb2c4dc9-5404-4023-b212-fb6b042648fb"
      },
      "outputs": [
        {
          "output_type": "stream",
          "name": "stdout",
          "text": [
            "🧪 PROBANDO NUESTRO MODELO:\n",
            "===================================\n",
            "🌞 Situación 1: Día soleado, mucho dinero, con acompañante\n",
            "   🎬 Predicción: ¡SÍ, ir al cine!\n",
            "\n",
            "🌧️ Situación 2: Día lluvioso, poco dinero, solo\n",
            "   🏠 Predicción: NO ir al cine\n",
            "\n",
            "🌧️ Situación 3: Día lluvioso, mucho dinero, con acompañante\n",
            "   🎬 Predicción: ¡SÍ, ir al cine!\n",
            "\n",
            "🤔 ¿Las predicciones tienen sentido? ¿Coinciden con lo que tú harías?\n"
          ]
        },
        {
          "output_type": "stream",
          "name": "stderr",
          "text": [
            "/usr/local/lib/python3.12/dist-packages/sklearn/utils/validation.py:2739: UserWarning: X does not have valid feature names, but DecisionTreeClassifier was fitted with feature names\n",
            "  warnings.warn(\n",
            "/usr/local/lib/python3.12/dist-packages/sklearn/utils/validation.py:2739: UserWarning: X does not have valid feature names, but DecisionTreeClassifier was fitted with feature names\n",
            "  warnings.warn(\n",
            "/usr/local/lib/python3.12/dist-packages/sklearn/utils/validation.py:2739: UserWarning: X does not have valid feature names, but DecisionTreeClassifier was fitted with feature names\n",
            "  warnings.warn(\n"
          ]
        }
      ],
      "source": [
        "# Probar con situaciones nuevas\n",
        "print(\"🧪 PROBANDO NUESTRO MODELO:\")\n",
        "print(\"=\" * 35)\n",
        "\n",
        "# Situación 1: Día soleado, mucho dinero, con acompañante\n",
        "# Recordar: Lluvioso=0,Soleado=1 | Mucho=0,Poco=1 | No=0,Sí=1\n",
        "situacion1 = [[1, 0, 1]]  # [Soleado, Mucho dinero, Con acompañante]\n",
        "prediccion1 = modelo_cine.predict(situacion1)\n",
        "\n",
        "print(\"🌞 Situación 1: Día soleado, mucho dinero, con acompañante\")\n",
        "if prediccion1[0] == 1:\n",
        "    print(\"   🎬 Predicción: ¡SÍ, ir al cine!\")\n",
        "else:\n",
        "    print(\"   🏠 Predicción: NO ir al cine\")\n",
        "\n",
        "# Situación 2: Día lluvioso, poco dinero, solo\n",
        "situacion2 = [[0, 1, 0]]  # [Lluvioso, Poco dinero, Solo]\n",
        "prediccion2 = modelo_cine.predict(situacion2)\n",
        "\n",
        "print(\"\\n🌧️ Situación 2: Día lluvioso, poco dinero, solo\")\n",
        "if prediccion2[0] == 1:\n",
        "    print(\"   🎬 Predicción: ¡SÍ, ir al cine!\")\n",
        "else:\n",
        "    print(\"   🏠 Predicción: NO ir al cine\")\n",
        "\n",
        "# Situación 3: Día lluvioso, mucho dinero, con acompañante\n",
        "situacion3 = [[0, 0, 1]]  # [Lluvioso, Mucho dinero, Con acompañante]\n",
        "prediccion3 = modelo_cine.predict(situacion3)\n",
        "\n",
        "print(\"\\n🌧️ Situación 3: Día lluvioso, mucho dinero, con acompañante\")\n",
        "if prediccion3[0] == 1:\n",
        "    print(\"   🎬 Predicción: ¡SÍ, ir al cine!\")\n",
        "else:\n",
        "    print(\"   🏠 Predicción: NO ir al cine\")\n",
        "\n",
        "print(\"\\n🤔 ¿Las predicciones tienen sentido? ¿Coinciden con lo que tú harías?\")"
      ]
    },
    {
      "cell_type": "markdown",
      "metadata": {
        "id": "qAeSr32fRArY"
      },
      "source": [
        "## 👀 ¡Veamos Cómo Piensa Nuestro Árbol!\n",
        "\n",
        "### 🎨 La mejor parte de los árboles: ¡podemos ver exactamente cómo deciden!\n",
        "\n",
        "Es como leer la mente de nuestro modelo."
      ]
    },
    {
      "cell_type": "code",
      "execution_count": null,
      "metadata": {
        "colab": {
          "base_uri": "https://localhost:8080/",
          "height": 1000
        },
        "id": "cqfFPeyXRArY",
        "outputId": "5ec59246-d753-4907-834f-c22e31ac6d10"
      },
      "outputs": [
        {
          "output_type": "stream",
          "name": "stderr",
          "text": [
            "/usr/local/lib/python3.12/dist-packages/IPython/core/pylabtools.py:151: UserWarning: Glyph 127795 (\\N{DECIDUOUS TREE}) missing from font(s) DejaVu Sans.\n",
            "  fig.canvas.print_figure(bytes_io, **kw)\n"
          ]
        },
        {
          "output_type": "display_data",
          "data": {
            "text/plain": [
              "<Figure size 1500x1000 with 1 Axes>"
            ],
            "image/png": "[encoded data removed]"
          },
          "metadata": {}
        },
        {
          "output_type": "stream",
          "name": "stdout",
          "text": [
            "\n",
            "📖 CÓMO LEER EL ÁRBOL:\n",
            "=========================\n",
            "🔹 Cada caja = una pregunta o decisión\n",
            "🔹 Las ramas = posibles respuestas (Sí/No)\n",
            "🔹 Colores = predicción final\n",
            "🔹 'samples' = cuántos ejemplos llegaron a ese nodo\n",
            "🔹 'value' = [ejemplos de No ir, ejemplos de Ir]\n",
            "\n",
            "🎯 ¡Intenta seguir el camino para las situaciones que probamos antes!\n"
          ]
        }
      ],
      "source": [
        "# Visualizar nuestro árbol de decisión\n",
        "import matplotlib.pyplot as plt\n",
        "from sklearn.tree import plot_tree\n",
        "\n",
        "# Crear un gráfico grande para ver bien el árbol\n",
        "plt.figure(figsize=(15, 10))\n",
        "\n",
        "# Dibujar el árbol con etiquetas claras\n",
        "plot_tree(modelo_cine,\n",
        "          feature_names=['Clima', 'Dinero', 'Acompañante'],  # Nombres de características\n",
        "          class_names=['No ir', 'Ir'],  # Nombres de las decisiones\n",
        "          filled=True,      # Colorear los nodos\n",
        "          rounded=True,     # Nodos redondeados\n",
        "          fontsize=12)      # Tamaño de texto\n",
        "\n",
        "plt.title(\"🌳 Nuestro Árbol de Decisión para Ir al Cine\", fontsize=16, fontweight='bold')\n",
        "plt.show()\n",
        "\n",
        "print(\"\\n📖 CÓMO LEER EL ÁRBOL:\")\n",
        "print(\"=\" * 25)\n",
        "print(\"🔹 Cada caja = una pregunta o decisión\")\n",
        "print(\"🔹 Las ramas = posibles respuestas (Sí/No)\")\n",
        "print(\"🔹 Colores = predicción final\")\n",
        "print(\"🔹 'samples' = cuántos ejemplos llegaron a ese nodo\")\n",
        "print(\"🔹 'value' = [ejemplos de No ir, ejemplos de Ir]\")\n",
        "\n",
        "print(\"\\n🎯 ¡Intenta seguir el camino para las situaciones que probamos antes!\")"
      ]
    },
    {
      "cell_type": "markdown",
      "metadata": {
        "id": "aTVO6XDFRArY"
      },
      "source": [
        "## 🎮 ¡Tu Turno de Experimentar!\n",
        "\n",
        "### 🧪 Ejercicio Interactivo\n",
        "\n",
        "Modifica los valores abajo y ve qué predice el modelo:"
      ]
    },
    {
      "cell_type": "code",
      "execution_count": null,
      "metadata": {
        "colab": {
          "base_uri": "https://localhost:8080/"
        },
        "id": "nfjHlT4kRArZ",
        "outputId": "13781b6b-dbe1-4da6-afce-cce27f1ad72d"
      },
      "outputs": [
        {
          "output_type": "stream",
          "name": "stdout",
          "text": [
            "🎯 TU SITUACIÓN:\n",
            "====================\n",
            "☀️ Clima: Soleado\n",
            "💰 Dinero: Mucho\n",
            "👥 Acompañante: Sí\n",
            "\n",
            "🔮 PREDICCIÓN DEL MODELO:\n",
            "   🎬 ¡SÍ, deberías ir al cine!\n",
            "\n",
            "🤔 ¿Estás de acuerdo con la predicción?\n"
          ]
        },
        {
          "output_type": "stream",
          "name": "stderr",
          "text": [
            "/usr/local/lib/python3.12/dist-packages/sklearn/utils/validation.py:2739: UserWarning: X does not have valid feature names, but DecisionTreeClassifier was fitted with feature names\n",
            "  warnings.warn(\n"
          ]
        }
      ],
      "source": [
        "# 🎛️ PANEL DE CONTROL - ¡Cambia estos valores y ejecuta!\n",
        "\n",
        "# Configura tu situación (cambia estos valores):\n",
        "mi_clima = 1        # 0 = Lluvioso, 1 = Soleado\n",
        "mi_dinero = 0       # 0 = Mucho, 1 = Poco\n",
        "mi_acompañante = 1  # 0 = No, 1 = Sí\n",
        "\n",
        "# 🔮 Ver predicción\n",
        "mi_situacion = [[mi_clima, mi_dinero, mi_acompañante]]\n",
        "mi_prediccion = modelo_cine.predict(mi_situacion)\n",
        "\n",
        "# 📊 Mostrar resultado bonito\n",
        "print(\"🎯 TU SITUACIÓN:\")\n",
        "print(\"=\" * 20)\n",
        "clima_texto = \"Soleado\" if mi_clima == 1 else \"Lluvioso\"\n",
        "dinero_texto = \"Mucho\" if mi_dinero == 0 else \"Poco\"\n",
        "acompañante_texto = \"Sí\" if mi_acompañante == 1 else \"No\"\n",
        "\n",
        "print(f\"☀️ Clima: {clima_texto}\")\n",
        "print(f\"💰 Dinero: {dinero_texto}\")\n",
        "print(f\"👥 Acompañante: {acompañante_texto}\")\n",
        "\n",
        "print(\"\\n🔮 PREDICCIÓN DEL MODELO:\")\n",
        "if mi_prediccion[0] == 1:\n",
        "    print(\"   🎬 ¡SÍ, deberías ir al cine!\")\n",
        "else:\n",
        "    print(\"   🏠 NO ir al cine sería mejor\")\n",
        "\n",
        "print(\"\\n🤔 ¿Estás de acuerdo con la predicción?\")"
      ]
    },
    {
      "cell_type": "markdown",
      "metadata": {
        "id": "HUh5PI8hRArZ"
      },
      "source": [
        "## 📊 ¿Qué tan Bueno es Nuestro Modelo?\n",
        "\n",
        "### 🎯 Concepto importante: Accuracy (Precisión)\n",
        "\n",
        "**Accuracy = ¿En cuántas predicciones acertó el modelo?**\n",
        "\n",
        "### 🎓 Analogía del Examen:\n",
        "- Si en un examen de 10 preguntas aciertas 8 → Tu accuracy es 80%\n",
        "- Si el modelo predice bien 8 de 10 casos → Su accuracy es 80%"
      ]
    },
    {
      "cell_type": "code",
      "execution_count": null,
      "metadata": {
        "colab": {
          "base_uri": "https://localhost:8080/"
        },
        "id": "zxEQmBw2RArZ",
        "outputId": "a5e9c14b-e93c-498d-8f75-958cb94e7af6"
      },
      "outputs": [
        {
          "output_type": "stream",
          "name": "stdout",
          "text": [
            "📊 EVALUACIÓN DE NUESTRO MODELO:\n",
            "===================================\n",
            "✅ Accuracy: 100.00%\n",
            "📈 Esto significa que acertó 100.0% de las veces\n",
            "\n",
            "🔍 COMPARACIÓN DETALLADA:\n",
            "Real\tPredicción\t¿Correcto?\n",
            "------------------------------\n",
            "No ir\tNo ir\t\t✅\n",
            "No ir\tNo ir\t\t✅\n",
            "Ir\tIr\t\t✅\n",
            "Ir\tIr\t\t✅\n",
            "No ir\tNo ir\t\t✅\n",
            "Ir\tIr\t\t✅\n",
            "No ir\tNo ir\t\t✅\n",
            "Ir\tIr\t\t✅\n",
            "\n",
            "🎉 ¡PERFECTO! El modelo acertó en todos los casos\n",
            "💡 Esto puede significar que nuestros datos son muy simples\n",
            "      Clima Dinero Acompañante Fue_al_Cine\n",
            "0   Soleado   Poco          No          No\n",
            "1  Lluvioso  Mucho          No          No\n",
            "2   Soleado  Mucho          Sí          Sí\n",
            "3  Lluvioso   Poco          Sí          Sí\n",
            "4   Soleado  Mucho          No          No\n",
            "5  Lluvioso  Mucho          Sí          Sí\n",
            "6   Soleado   Poco          No          No\n",
            "7  Lluvioso   Poco          Sí          Sí\n"
          ]
        }
      ],
      "source": [
        "# Evaluar qué tan bien funciona nuestro modelo\n",
        "from sklearn.metrics import accuracy_score\n",
        "\n",
        "# Hacer predicciones sobre todos nuestros datos originales\n",
        "predicciones_todas = modelo_cine.predict(X)\n",
        "\n",
        "# Comparar con las decisiones reales\n",
        "accuracy = accuracy_score(y, predicciones_todas)\n",
        "\n",
        "print(\"📊 EVALUACIÓN DE NUESTRO MODELO:\")\n",
        "print(\"=\" * 35)\n",
        "print(f\"✅ Accuracy: {accuracy:.2%}\")\n",
        "print(f\"📈 Esto significa que acertó {accuracy:.1%} de las veces\")\n",
        "\n",
        "# Mostrar comparación detallada\n",
        "print(\"\\n🔍 COMPARACIÓN DETALLADA:\")\n",
        "print(\"Real\\tPredicción\\t¿Correcto?\")\n",
        "print(\"-\" * 30)\n",
        "\n",
        "for i in range(len(y)):\n",
        "    real = \"Ir\" if y.iloc[i] == 1 else \"No ir\"\n",
        "    pred = \"Ir\" if predicciones_todas[i] == 1 else \"No ir\"\n",
        "    correcto = \"✅\" if y.iloc[i] == predicciones_todas[i] else \"❌\"\n",
        "    print(f\"{real}\\t{pred}\\t\\t{correcto}\")\n",
        "\n",
        "if accuracy == 1.0:\n",
        "    print(\"\\n🎉 ¡PERFECTO! El modelo acertó en todos los casos\")\n",
        "    print(\"💡 Esto puede significar que nuestros datos son muy simples\")\n",
        "elif accuracy >= 0.8:\n",
        "    print(\"\\n😊 ¡Muy bien! El modelo aprendió bien nuestros patrones\")\n",
        "else:\n",
        "    print(\"\\n🤔 El modelo necesita mejorar. Tal vez necesitamos más datos\")\n",
        "\n",
        "\n",
        "print(df_cine)"
      ]
    },
    {
      "cell_type": "markdown",
      "metadata": {
        "id": "G5Nx9I0MRAra"
      },
      "source": [
        "## 🚀 ¡Proyecto Final: Detector de Spam!\n",
        "\n",
        "### 📧 Vamos a crear algo súper útil\n",
        "\n",
        "Ahora que ya sabes lo básico, vamos a crear un detector de emails spam. ¡Como los que usan Gmail y otros servicios!\n",
        "\n",
        "### 🎯 Características que analizaremos:\n",
        "- **Exclamaciones**: ¿Cuántos ! tiene el email?\n",
        "- **Mayúsculas**: ¿Cuántas palabras EN MAYÚSCULAS?\n",
        "- **Palabra \"PREMIO\"**: ¿Aparece esta palabra?\n",
        "- **Palabra \"URGENTE\"**: ¿Aparece esta palabra?"
      ]
    },
    {
      "cell_type": "code",
      "execution_count": null,
      "metadata": {
        "colab": {
          "base_uri": "https://localhost:8080/"
        },
        "id": "G9_-bgm-RAra",
        "outputId": "72e17f78-1961-4e10-e7df-b85b2f9ece62"
      },
      "outputs": [
        {
          "output_type": "stream",
          "name": "stdout",
          "text": [
            "📧 Creando dataset de emails...\n",
            "✅ Dataset creado\n",
            "📊 Total emails: 100\n",
            "📧 Emails normales: 70\n",
            "🚫 Emails spam: 30\n",
            "\n",
            "👀 Primeros 10 emails:\n",
            "   exclamaciones  mayusculas  tiene_premio  tiene_urgente  es_spam\n",
            "0              0           0             0              0        0\n",
            "1              0           2             0              0        0\n",
            "2              0           0             0              0        0\n",
            "3              1           0             0              0        0\n",
            "4              1           1             0              0        0\n",
            "5              1           1             0              0        0\n",
            "6              0           2             0              0        0\n",
            "7              1           2             0              0        0\n",
            "8              0           2             0              0        0\n",
            "9              0           2             0              0        0\n"
          ]
        }
      ],
      "source": [
        "# Crear dataset de emails (simulado pero realista)\n",
        "import numpy as np\n",
        "\n",
        "# Establecer semilla para resultados reproducibles\n",
        "np.random.seed(42)\n",
        "\n",
        "print(\"📧 Creando dataset de emails...\")\n",
        "\n",
        "# Crear 100 emails de ejemplo\n",
        "num_emails = 100\n",
        "\n",
        "datos_emails = {\n",
        "    'exclamaciones': [],\n",
        "    'mayusculas': [],\n",
        "    'tiene_premio': [],\n",
        "    'tiene_urgente': [],\n",
        "    'es_spam': []\n",
        "}\n",
        "\n",
        "# Generar emails normales y spam con patrones realistas\n",
        "for i in range(num_emails):\n",
        "    if i < 70:  # Primeros 70 = emails normales\n",
        "        exclamaciones = np.random.randint(0, 2)  # 0-1 exclamaciones\n",
        "        mayusculas = np.random.randint(0, 3)     # 0-2 palabras en mayúsculas\n",
        "        tiene_premio = 0 if np.random.random() > 0.1 else 1  # 10% probabilidad\n",
        "        tiene_urgente = 0 if np.random.random() > 0.05 else 1  # 5% probabilidad\n",
        "        es_spam = 0\n",
        "    else:  # Últimos 30 = emails spam\n",
        "        exclamaciones = np.random.randint(2, 8)  # 2-7 exclamaciones\n",
        "        mayusculas = np.random.randint(3, 10)    # 3-9 palabras en mayúsculas\n",
        "        tiene_premio = 1 if np.random.random() > 0.3 else 0  # 70% probabilidad\n",
        "        tiene_urgente = 1 if np.random.random() > 0.4 else 0  # 60% probabilidad\n",
        "        es_spam = 1\n",
        "\n",
        "    datos_emails['exclamaciones'].append(exclamaciones)\n",
        "    datos_emails['mayusculas'].append(mayusculas)\n",
        "    datos_emails['tiene_premio'].append(tiene_premio)\n",
        "    datos_emails['tiene_urgente'].append(tiene_urgente)\n",
        "    datos_emails['es_spam'].append(es_spam)\n",
        "\n",
        "# Crear DataFrame\n",
        "df_emails = pd.DataFrame(datos_emails)\n",
        "\n",
        "print(\"✅ Dataset creado\")\n",
        "print(f\"📊 Total emails: {len(df_emails)}\")\n",
        "print(f\"📧 Emails normales: {sum(df_emails['es_spam'] == 0)}\")\n",
        "print(f\"🚫 Emails spam: {sum(df_emails['es_spam'] == 1)}\")\n",
        "\n",
        "print(\"\\n👀 Primeros 10 emails:\")\n",
        "print(df_emails.head(10))"
      ]
    },
    {
      "cell_type": "code",
      "execution_count": null,
      "metadata": {
        "colab": {
          "base_uri": "https://localhost:8080/"
        },
        "id": "BfRovDPGRAra",
        "outputId": "76e3a3e5-2af3-452c-8470-454c5911a609"
      },
      "outputs": [
        {
          "output_type": "stream",
          "name": "stdout",
          "text": [
            "🔍 ANÁLISIS: ¿Qué diferencias hay?\n",
            "========================================\n",
            "📧 EMAILS NORMALES (promedio):\n",
            "   Exclamaciones: 0.5\n",
            "   Mayúsculas: 1.1\n",
            "   Tienen 'PREMIO': 12.9%\n",
            "   Tienen 'URGENTE': 1.4%\n",
            "\n",
            "🚫 EMAILS SPAM (promedio):\n",
            "   Exclamaciones: 4.7\n",
            "   Mayúsculas: 5.9\n",
            "   Tienen 'PREMIO': 73.3%\n",
            "   Tienen 'URGENTE': 73.3%\n",
            "\n",
            "🤔 ¿Notas las diferencias? ¡Esos son los patrones que aprenderá el modelo!\n"
          ]
        }
      ],
      "source": [
        "# Analizar diferencias entre emails normales y spam\n",
        "print(\"🔍 ANÁLISIS: ¿Qué diferencias hay?\")\n",
        "print(\"=\" * 40)\n",
        "\n",
        "emails_normales = df_emails[df_emails['es_spam'] == 0]\n",
        "emails_spam = df_emails[df_emails['es_spam'] == 1]\n",
        "\n",
        "print(\"📧 EMAILS NORMALES (promedio):\")\n",
        "print(f\"   Exclamaciones: {emails_normales['exclamaciones'].mean():.1f}\")\n",
        "print(f\"   Mayúsculas: {emails_normales['mayusculas'].mean():.1f}\")\n",
        "print(f\"   Tienen 'PREMIO': {emails_normales['tiene_premio'].mean():.1%}\")\n",
        "print(f\"   Tienen 'URGENTE': {emails_normales['tiene_urgente'].mean():.1%}\")\n",
        "\n",
        "print(\"\\n🚫 EMAILS SPAM (promedio):\")\n",
        "print(f\"   Exclamaciones: {emails_spam['exclamaciones'].mean():.1f}\")\n",
        "print(f\"   Mayúsculas: {emails_spam['mayusculas'].mean():.1f}\")\n",
        "print(f\"   Tienen 'PREMIO': {emails_spam['tiene_premio'].mean():.1%}\")\n",
        "print(f\"   Tienen 'URGENTE': {emails_spam['tiene_urgente'].mean():.1%}\")\n",
        "\n",
        "print(\"\\n🤔 ¿Notas las diferencias? ¡Esos son los patrones que aprenderá el modelo!\")"
      ]
    },
    {
      "cell_type": "code",
      "execution_count": null,
      "metadata": {
        "colab": {
          "base_uri": "https://localhost:8080/"
        },
        "id": "79lyj5YfRAra",
        "outputId": "d3179204-a688-4acf-ec1a-b76c16e08545"
      },
      "outputs": [
        {
          "output_type": "stream",
          "name": "stdout",
          "text": [
            "📚 Dividiendo datos para entrenar y probar el modelo...\n",
            "✅ División completada:\n",
            "   📚 Entrenamiento: 70 emails\n",
            "   🧪 Prueba: 30 emails\n",
            "\n",
            "🚫 Creando detector de spam...\n",
            "🎓 ¡Detector entrenado!\n",
            "\n",
            "📊 Accuracy del detector: 100.0%\n",
            "🎉 ¡Excelente! El detector es muy bueno\n"
          ]
        }
      ],
      "source": [
        "# Dividir datos en entrenamiento y prueba\n",
        "print(\"📚 Dividiendo datos para entrenar y probar el modelo...\")\n",
        "\n",
        "# Preparar características (X) y objetivo (y)\n",
        "X_emails = df_emails[['exclamaciones', 'mayusculas', 'tiene_premio', 'tiene_urgente']]\n",
        "y_emails = df_emails['es_spam']\n",
        "\n",
        "# Dividir: 70% para entrenar, 30% para probar\n",
        "X_train, X_test, y_train, y_test = train_test_split(\n",
        "    X_emails, y_emails,\n",
        "    test_size=0.3,      # 30% para prueba\n",
        "    random_state=42,    # Para resultados reproducibles\n",
        "    stratify=y_emails   # Mantener proporción de spam/normal\n",
        ")\n",
        "\n",
        "print(f\"✅ División completada:\")\n",
        "print(f\"   📚 Entrenamiento: {len(X_train)} emails\")\n",
        "print(f\"   🧪 Prueba: {len(X_test)} emails\")\n",
        "\n",
        "# Crear y entrenar el detector de spam\n",
        "print(\"\\n🚫 Creando detector de spam...\")\n",
        "\n",
        "detector_spam = DecisionTreeClassifier(\n",
        "    max_depth=4,            # Un poco más profundo para este problema\n",
        "    min_samples_split=5,    # Mínimo 5 ejemplos para dividir\n",
        "    random_state=42\n",
        ")\n",
        "\n",
        "# Entrenar\n",
        "detector_spam.fit(X_train, y_train)\n",
        "\n",
        "print(\"🎓 ¡Detector entrenado!\")\n",
        "\n",
        "# Evaluar en datos de prueba\n",
        "accuracy_spam = detector_spam.score(X_test, y_test)\n",
        "print(f\"\\n📊 Accuracy del detector: {accuracy_spam:.1%}\")\n",
        "\n",
        "if accuracy_spam >= 0.9:\n",
        "    print(\"🎉 ¡Excelente! El detector es muy bueno\")\n",
        "elif accuracy_spam >= 0.8:\n",
        "    print(\"😊 ¡Bien! El detector funciona bastante bien\")\n",
        "else:\n",
        "    print(\"🤔 El detector necesita mejorar\")"
      ]
    },
    {
      "cell_type": "code",
      "execution_count": null,
      "metadata": {
        "colab": {
          "base_uri": "https://localhost:8080/"
        },
        "id": "VeB_YRpuRAra",
        "outputId": "4ae40cea-e667-4732-8ebd-571eb5894820"
      },
      "outputs": [
        {
          "output_type": "stream",
          "name": "stdout",
          "text": [
            "🧪 PROBANDO EL DETECTOR DE SPAM:\n",
            "===================================\n",
            "🚫 Email sospechoso:\n",
            "   - 7 exclamaciones (!!!!!!!)\n",
            "   - 8 palabras en MAYÚSCULAS\n",
            "   - Contiene 'PREMIO'\n",
            "   - Contiene 'URGENTE'\n",
            "   🔮 Predicción: SPAM\n",
            "\n",
            "📧 Email normal:\n",
            "   - 0 exclamaciones\n",
            "   - 1 palabra en mayúsculas\n",
            "   - No contiene 'PREMIO'\n",
            "   - No contiene 'URGENTE'\n",
            "   🔮 Predicción: NORMAL\n",
            "\n",
            "❓ Email dudoso:\n",
            "   - 2 exclamaciones\n",
            "   - 3 palabras en MAYÚSCULAS\n",
            "   - Contiene 'PREMIO'\n",
            "   - No contiene 'URGENTE'\n",
            "   🔮 Predicción: SPAM\n",
            "\n",
            "🤔 ¿Te parecen correctas las predicciones?\n"
          ]
        },
        {
          "output_type": "stream",
          "name": "stderr",
          "text": [
            "/usr/local/lib/python3.12/dist-packages/sklearn/utils/validation.py:2739: UserWarning: X does not have valid feature names, but DecisionTreeClassifier was fitted with feature names\n",
            "  warnings.warn(\n",
            "/usr/local/lib/python3.12/dist-packages/sklearn/utils/validation.py:2739: UserWarning: X does not have valid feature names, but DecisionTreeClassifier was fitted with feature names\n",
            "  warnings.warn(\n",
            "/usr/local/lib/python3.12/dist-packages/sklearn/utils/validation.py:2739: UserWarning: X does not have valid feature names, but DecisionTreeClassifier was fitted with feature names\n",
            "  warnings.warn(\n"
          ]
        }
      ],
      "source": [
        "# ¡Probar nuestro detector con emails específicos!\n",
        "print(\"🧪 PROBANDO EL DETECTOR DE SPAM:\")\n",
        "print(\"=\" * 35)\n",
        "\n",
        "# Email claramente spam\n",
        "email_spam = [[7, 8, 1, 1]]  # 7 exclamaciones, 8 mayúsculas, tiene PREMIO y URGENTE\n",
        "pred_spam = detector_spam.predict(email_spam)\n",
        "\n",
        "print(\"🚫 Email sospechoso:\")\n",
        "print(\"   - 7 exclamaciones (!!!!!!!)\")\n",
        "print(\"   - 8 palabras en MAYÚSCULAS\")\n",
        "print(\"   - Contiene 'PREMIO'\")\n",
        "print(\"   - Contiene 'URGENTE'\")\n",
        "print(f\"   🔮 Predicción: {'SPAM' if pred_spam[0] == 1 else 'NORMAL'}\")\n",
        "\n",
        "# Email claramente normal\n",
        "email_normal = [[0, 1, 0, 0]]  # 0 exclamaciones, 1 mayúscula, sin palabras spam\n",
        "pred_normal = detector_spam.predict(email_normal)\n",
        "\n",
        "print(\"\\n📧 Email normal:\")\n",
        "print(\"   - 0 exclamaciones\")\n",
        "print(\"   - 1 palabra en mayúsculas\")\n",
        "print(\"   - No contiene 'PREMIO'\")\n",
        "print(\"   - No contiene 'URGENTE'\")\n",
        "print(f\"   🔮 Predicción: {'SPAM' if pred_normal[0] == 1 else 'NORMAL'}\")\n",
        "\n",
        "# Email dudoso\n",
        "email_dudoso = [[2, 3, 1, 0]]  # 2 exclamaciones, 3 mayúsculas, tiene PREMIO pero no URGENTE\n",
        "pred_dudoso = detector_spam.predict(email_dudoso)\n",
        "\n",
        "print(\"\\n❓ Email dudoso:\")\n",
        "print(\"   - 2 exclamaciones\")\n",
        "print(\"   - 3 palabras en MAYÚSCULAS\")\n",
        "print(\"   - Contiene 'PREMIO'\")\n",
        "print(\"   - No contiene 'URGENTE'\")\n",
        "print(f\"   🔮 Predicción: {'SPAM' if pred_dudoso[0] == 1 else 'NORMAL'}\")\n",
        "\n",
        "print(\"\\n🤔 ¿Te parecen correctas las predicciones?\")"
      ]
    },
    {
      "cell_type": "code",
      "execution_count": null,
      "metadata": {
        "colab": {
          "base_uri": "https://localhost:8080/",
          "height": 971
        },
        "id": "PXGhGy0mRArb",
        "outputId": "f6352bbd-2b8d-4bff-e1f5-2df856d98301"
      },
      "outputs": [
        {
          "output_type": "stream",
          "name": "stderr",
          "text": [
            "/usr/local/lib/python3.12/dist-packages/IPython/core/pylabtools.py:151: UserWarning: Glyph 128683 (\\N{NO ENTRY SIGN}) missing from font(s) DejaVu Sans.\n",
            "  fig.canvas.print_figure(bytes_io, **kw)\n"
          ]
        },
        {
          "output_type": "display_data",
          "data": {
            "text/plain": [
              "<Figure size 2000x1200 with 1 Axes>"
            ],
            "image/png": "[encoded data removed]"
          },
          "metadata": {}
        },
        {
          "output_type": "stream",
          "name": "stdout",
          "text": [
            "\n",
            "🎯 ¡Intenta seguir el camino del árbol para los emails que probamos!\n",
            "\n",
            "💡 Observa cómo el modelo aprendió que:\n",
            "   - Muchas exclamaciones = más probabilidad de spam\n",
            "   - Palabras como 'PREMIO' = señal de spam\n",
            "   - La combinación de factores es lo que cuenta\n"
          ]
        }
      ],
      "source": [
        "# Visualizar el árbol del detector de spam\n",
        "plt.figure(figsize=(20, 12))\n",
        "\n",
        "plot_tree(detector_spam,\n",
        "          feature_names=['Exclamaciones', 'Mayúsculas', 'Premio', 'Urgente'],\n",
        "          class_names=['Normal', 'Spam'],\n",
        "          filled=True,\n",
        "          rounded=True,\n",
        "          fontsize=10)\n",
        "\n",
        "plt.title(\"🚫 Detector de Spam - Árbol de Decisión\", fontsize=16, fontweight='bold')\n",
        "plt.show()\n",
        "\n",
        "print(\"\\n🎯 ¡Intenta seguir el camino del árbol para los emails que probamos!\")\n",
        "print(\"\\n💡 Observa cómo el modelo aprendió que:\")\n",
        "print(\"   - Muchas exclamaciones = más probabilidad de spam\")\n",
        "print(\"   - Palabras como 'PREMIO' = señal de spam\")\n",
        "print(\"   - La combinación de factores es lo que cuenta\")"
      ]
    },
    {
      "cell_type": "markdown",
      "metadata": {
        "id": "H01stf1nRArb"
      },
      "source": []
    },
    {
      "cell_type": "markdown",
      "metadata": {
        "id": "iJGqboitRArb"
      },
      "source": [
        "## 🎓 ¿Cómo Seguir Aprendiendo?\n",
        "\n",
        "### 📚 Próximos pasos recomendados:\n",
        "\n",
        "#### 1. **Practica más con árboles de decisión**\n",
        "- Crea detectores para otros problemas (música, películas, deportes)\n",
        "- Experimenta con diferentes parámetros\n",
        "- Usa datos reales de internet\n",
        "\n",
        "#### 2. **Aprende otros algoritmos**\n",
        "- **Random Forest**: Muchos árboles trabajando juntos\n",
        "- **Regresión Logística**: Para otros tipos de problemas\n",
        "- **K-Nearest Neighbors**: Basado en vecinos cercanos\n",
        "\n",
        "#### 3. **Mejora tus habilidades técnicas**\n",
        "- Más Python y pandas para manejar datos\n",
        "- Visualización de datos con matplotlib\n",
        "- Estadística básica para entender mejor los resultados\n",
        "\n",
        "### 🌐 Recursos gratuitos recomendados:\n",
        "- **Kaggle Learn**: Cursos gratuitos y prácticos\n",
        "- **YouTube - StatQuest**: Explicaciones súper claras\n",
        "- **Coursera**: Curso de Machine Learning de Andrew Ng\n",
        "- **Datasets para practicar**: UCI ML Repository, Kaggle\n",
        "\n",
        "### 💡 Ideas para proyectos propios:\n",
        "1. **Predictor de éxito de películas** (basado en género, director, etc.)\n",
        "2. **Clasificador de música** (rock, pop, jazz)\n",
        "3. **Detector de noticias falsas** (palabras clave, fuente, etc.)\n",
        "4. **Recomendador de restaurantes** (precio, tipo, ubicación)\n"
      ]
    }
  ],
  "metadata": {
    "kernelspec": {
      "display_name": "Python 3",
      "language": "python",
      "name": "python3"
    },
    "language_info": {
      "codemirror_mode": {
        "name": "ipython",
        "version": 3
      },
      "file_extension": ".py",
      "mimetype": "text/x-python",
      "name": "python",
      "nbconvert_exporter": "python",
      "pygments_lexer": "ipython3",
      "version": "3.8.0"
    },
    "colab": {
      "provenance": [],
      "include_colab_link": true
    }
  },
  "nbformat": 4,
  "nbformat_minor": 0
}